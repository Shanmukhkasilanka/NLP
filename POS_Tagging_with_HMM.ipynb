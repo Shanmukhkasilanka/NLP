{
 "cells": [
  {
   "cell_type": "code",
   "execution_count": 1,
   "id": "23239df2",
   "metadata": {},
   "outputs": [],
   "source": [
    "import nltk\n",
    "from nltk.corpus import treebank\n",
    "from nltk.tag import hmm"
   ]
  },
  {
   "cell_type": "code",
   "execution_count": 2,
   "id": "513cbcf5",
   "metadata": {},
   "outputs": [
    {
     "name": "stderr",
     "output_type": "stream",
     "text": [
      "[nltk_data] Downloading package treebank to\n",
      "[nltk_data]     C:\\Users\\Admin\\AppData\\Roaming\\nltk_data...\n",
      "[nltk_data]   Unzipping corpora\\treebank.zip.\n"
     ]
    },
    {
     "data": {
      "text/plain": [
       "True"
      ]
     },
     "execution_count": 2,
     "metadata": {},
     "output_type": "execute_result"
    }
   ],
   "source": [
    "nltk.download('treebank')"
   ]
  },
  {
   "cell_type": "code",
   "execution_count": 3,
   "id": "d909a06c",
   "metadata": {},
   "outputs": [],
   "source": [
    "train_data = treebank.tagged_sents()[:3000]"
   ]
  },
  {
   "cell_type": "code",
   "execution_count": 4,
   "id": "9057caf5",
   "metadata": {},
   "outputs": [],
   "source": [
    "hmm_tagger = hmm.HiddenMarkovModelTagger.train(train_data)"
   ]
  },
  {
   "cell_type": "code",
   "execution_count": 5,
   "id": "849b9ab3",
   "metadata": {},
   "outputs": [],
   "source": [
    "sentence = \"This is a simple example sentence.\""
   ]
  },
  {
   "cell_type": "code",
   "execution_count": 6,
   "id": "68d67d27",
   "metadata": {},
   "outputs": [],
   "source": [
    "tokenized_sentence = nltk.word_tokenize(sentence)"
   ]
  },
  {
   "cell_type": "code",
   "execution_count": 7,
   "id": "bbb83e5e",
   "metadata": {},
   "outputs": [],
   "source": [
    "pos_tags = hmm_tagger.tag(tokenized_sentence)"
   ]
  },
  {
   "cell_type": "code",
   "execution_count": 8,
   "id": "3640208e",
   "metadata": {},
   "outputs": [
    {
     "name": "stdout",
     "output_type": "stream",
     "text": [
      "Example Sentence :  This is a simple example sentence.\n"
     ]
    }
   ],
   "source": [
    "print(\"Example Sentence : \",sentence)\n",
    "print(\"POS Tags\")"
   ]
  },
  {
   "cell_type": "code",
   "execution_count": null,
   "id": "048d08ae",
   "metadata": {},
   "outputs": [],
   "source": []
  }
 ],
 "metadata": {
  "kernelspec": {
   "display_name": "Python 3 (ipykernel)",
   "language": "python",
   "name": "python3"
  },
  "language_info": {
   "codemirror_mode": {
    "name": "ipython",
    "version": 3
   },
   "file_extension": ".py",
   "mimetype": "text/x-python",
   "name": "python",
   "nbconvert_exporter": "python",
   "pygments_lexer": "ipython3",
   "version": "3.11.4"
  }
 },
 "nbformat": 4,
 "nbformat_minor": 5
}
