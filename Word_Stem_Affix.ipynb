{
 "cells": [
  {
   "cell_type": "code",
   "execution_count": 1,
   "id": "b622df53",
   "metadata": {},
   "outputs": [],
   "source": [
    "import re"
   ]
  },
  {
   "cell_type": "code",
   "execution_count": 20,
   "id": "700c3542",
   "metadata": {},
   "outputs": [],
   "source": [
    "def morphological_analysis(word):\n",
    "    prefixes = ['un', 'pre', 'dis', 'de', 're', 'mis', 'pro', 'ex', 'il', 'im', 'in', 'non']\n",
    "    suffixes = ['ed', 'ing', 'ly', 'able', 'al', 'er', 'est', 'ful', 'ible', 'ily', 'less', 'y', 'ness']\n",
    "    \n",
    "    stem = word\n",
    "    affix = []\n",
    "    a,s=0,0\n",
    "    \n",
    "    for prefix in prefixes:\n",
    "        if word.startswith(prefix):\n",
    "            stem = word[len(prefix):]\n",
    "            affix.append(prefix)\n",
    "            a=1\n",
    "            break\n",
    "    for suffix in suffixes:\n",
    "        if word.endswith(suffix):\n",
    "            stem = word[:-len(suffix)]\n",
    "            affix.append(suffix)\n",
    "            s=1\n",
    "            break\n",
    "    if(a==s and a==1):\n",
    "        stem = word[len(prefix):-len(suffix)]\n",
    "    return {'word': word, 'stem': stem, 'affix':affix}"
   ]
  },
  {
   "cell_type": "code",
   "execution_count": 35,
   "id": "05be9393",
   "metadata": {},
   "outputs": [
    {
     "name": "stdout",
     "output_type": "stream",
     "text": [
      "Enter any word\n",
      "happily\n",
      "Word: happily\n",
      "Stem: happi\n",
      "Affix: ['ly']\n"
     ]
    }
   ],
   "source": [
    "word_to_analyze = input('Enter any word\\n')\n",
    "result = morphological_analysis(word_to_analyze)\n",
    "print(f\"Word: {result['word']}\")\n",
    "print(f\"Stem: {result['stem']}\")\n",
    "print(f\"Affix: {result['affix']}\")"
   ]
  },
  {
   "cell_type": "code",
   "execution_count": null,
   "id": "9a1db0ac",
   "metadata": {},
   "outputs": [],
   "source": []
  }
 ],
 "metadata": {
  "kernelspec": {
   "display_name": "Python 3 (ipykernel)",
   "language": "python",
   "name": "python3"
  },
  "language_info": {
   "codemirror_mode": {
    "name": "ipython",
    "version": 3
   },
   "file_extension": ".py",
   "mimetype": "text/x-python",
   "name": "python",
   "nbconvert_exporter": "python",
   "pygments_lexer": "ipython3",
   "version": "3.11.4"
  }
 },
 "nbformat": 4,
 "nbformat_minor": 5
}
