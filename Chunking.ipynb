{
 "cells": [
  {
   "cell_type": "code",
   "execution_count": 1,
   "id": "6870bf60",
   "metadata": {},
   "outputs": [],
   "source": [
    "import nltk\n",
    "from nltk.tokenize import word_tokenize\n",
    "from nltk import RegexpParser\n",
    "from nltk.corpus import treebank"
   ]
  },
  {
   "cell_type": "code",
   "execution_count": 9,
   "id": "d5989fc5",
   "metadata": {},
   "outputs": [
    {
     "name": "stderr",
     "output_type": "stream",
     "text": [
      "[nltk_data] Downloading package treebank to\n",
      "[nltk_data]     C:\\Users\\Admin\\AppData\\Roaming\\nltk_data...\n",
      "[nltk_data]   Package treebank is already up-to-date!\n"
     ]
    },
    {
     "data": {
      "text/plain": [
       "True"
      ]
     },
     "execution_count": 9,
     "metadata": {},
     "output_type": "execute_result"
    }
   ],
   "source": [
    "nltk.download('treebank')"
   ]
  },
  {
   "cell_type": "code",
   "execution_count": 4,
   "id": "3658cd0c",
   "metadata": {},
   "outputs": [],
   "source": [
    "sample_sentence = treebank.sents()[0]"
   ]
  },
  {
   "cell_type": "code",
   "execution_count": 5,
   "id": "91a37f0c",
   "metadata": {},
   "outputs": [],
   "source": [
    "words = word_tokenize(''.join(sample_sentence))"
   ]
  },
  {
   "cell_type": "code",
   "execution_count": 6,
   "id": "93d2d48b",
   "metadata": {},
   "outputs": [],
   "source": [
    "pos_tags = nltk.pos_tag(words)"
   ]
  },
  {
   "cell_type": "code",
   "execution_count": 8,
   "id": "13f5d128",
   "metadata": {},
   "outputs": [],
   "source": [
    "chunking_grammar = r\"\"\"\n",
    "    NP: {<DT>?<JJ>*<NN>}\n",
    "    PP: {<IN><NP>}\n",
    "    VP: {<VB.*><NP|PP>*}\n",
    "    \"\"\""
   ]
  },
  {
   "cell_type": "code",
   "execution_count": 10,
   "id": "0ab415d5",
   "metadata": {},
   "outputs": [],
   "source": [
    "chunk_parser = RegexpParser(chunking_grammar)"
   ]
  },
  {
   "cell_type": "code",
   "execution_count": 11,
   "id": "dceaf253",
   "metadata": {},
   "outputs": [],
   "source": [
    "chunks = chunk_parser.parse(pos_tags)"
   ]
  },
  {
   "cell_type": "code",
   "execution_count": 12,
   "id": "c29ce409",
   "metadata": {},
   "outputs": [
    {
     "name": "stdout",
     "output_type": "stream",
     "text": [
      "Chunked Tree : \n",
      "                S                      \n",
      "       _________|_____________          \n",
      "      |         |   |         NP       \n",
      "      |         |   |         |         \n",
      "PierreVinken,  ,/, ./. willjointheboard\n",
      "61yearsold/NNP         asanonexecutived\n",
      "                       irectorNov.29/NN\n",
      "\n"
     ]
    }
   ],
   "source": [
    "print(\"Chunked Tree : \")\n",
    "chunks.pretty_print()"
   ]
  },
  {
   "cell_type": "code",
   "execution_count": 13,
   "id": "92e04f7d",
   "metadata": {},
   "outputs": [
    {
     "name": "stdout",
     "output_type": "stream",
     "text": [
      "\n",
      "Extracted Chunks :\n",
      "NP willjointheboardasanonexecutivedirectorNov.29\n"
     ]
    }
   ],
   "source": [
    "print(\"\\nExtracted Chunks :\")\n",
    "for subtree in chunks.subtrees():\n",
    "    if subtree.label() is not None and subtree.label()!='S':\n",
    "        print(subtree.label(),''.join(word for word, _ in subtree.leaves()))"
   ]
  },
  {
   "cell_type": "code",
   "execution_count": null,
   "id": "99ef3c32",
   "metadata": {},
   "outputs": [],
   "source": []
  }
 ],
 "metadata": {
  "kernelspec": {
   "display_name": "Python 3 (ipykernel)",
   "language": "python",
   "name": "python3"
  },
  "language_info": {
   "codemirror_mode": {
    "name": "ipython",
    "version": 3
   },
   "file_extension": ".py",
   "mimetype": "text/x-python",
   "name": "python",
   "nbconvert_exporter": "python",
   "pygments_lexer": "ipython3",
   "version": "3.11.4"
  }
 },
 "nbformat": 4,
 "nbformat_minor": 5
}
