{
 "cells": [
  {
   "cell_type": "code",
   "execution_count": 1,
   "id": "c1865488",
   "metadata": {},
   "outputs": [],
   "source": [
    "import nltk\n",
    "from nltk import word_tokenize\n",
    "from nltk import ngrams"
   ]
  },
  {
   "cell_type": "code",
   "execution_count": 2,
   "id": "27c3f4e7",
   "metadata": {},
   "outputs": [],
   "source": [
    "def generate_ngrams(text,n):\n",
    "    words = word_tokenize(text)\n",
    "    n_grams = ngrams(words,n)\n",
    "    n_grams_list = [gram for gram in n_grams]\n",
    "    return n_grams_list"
   ]
  },
  {
   "cell_type": "code",
   "execution_count": 3,
   "id": "21a5f937",
   "metadata": {},
   "outputs": [],
   "source": [
    "example_text = \"This is a sample text for N_gram generation.\""
   ]
  },
  {
   "cell_type": "code",
   "execution_count": 4,
   "id": "6cdae332",
   "metadata": {},
   "outputs": [],
   "source": [
    "unigrams = generate_ngrams(example_text,1)"
   ]
  },
  {
   "cell_type": "code",
   "execution_count": 5,
   "id": "cf154e27",
   "metadata": {},
   "outputs": [],
   "source": [
    "bigrams = generate_ngrams(example_text,2)"
   ]
  },
  {
   "cell_type": "code",
   "execution_count": 6,
   "id": "1ff03ceb",
   "metadata": {},
   "outputs": [],
   "source": [
    "trigrams = generate_ngrams(example_text,3)"
   ]
  },
  {
   "cell_type": "code",
   "execution_count": 11,
   "id": "2af01f14",
   "metadata": {},
   "outputs": [
    {
     "name": "stdout",
     "output_type": "stream",
     "text": [
      "Unigrams :  [('This',), ('is',), ('a',), ('sample',), ('text',), ('for',), ('N_gram',), ('generation',), ('.',)]\n",
      "Bigrams :  [('This', 'is'), ('is', 'a'), ('a', 'sample'), ('sample', 'text'), ('text', 'for'), ('for', 'N_gram'), ('N_gram', 'generation'), ('generation', '.')]\n",
      "Trigrams :  [('This', 'is', 'a'), ('is', 'a', 'sample'), ('a', 'sample', 'text'), ('sample', 'text', 'for'), ('text', 'for', 'N_gram'), ('for', 'N_gram', 'generation'), ('N_gram', 'generation', '.')]\n"
     ]
    }
   ],
   "source": [
    "print(\"Unigrams : \",unigrams)\n",
    "print(\"Bigrams : \",bigrams)\n",
    "print(\"Trigrams : \",trigrams)"
   ]
  },
  {
   "cell_type": "code",
   "execution_count": null,
   "id": "e42575f1",
   "metadata": {},
   "outputs": [],
   "source": []
  }
 ],
 "metadata": {
  "kernelspec": {
   "display_name": "Python 3 (ipykernel)",
   "language": "python",
   "name": "python3"
  },
  "language_info": {
   "codemirror_mode": {
    "name": "ipython",
    "version": 3
   },
   "file_extension": ".py",
   "mimetype": "text/x-python",
   "name": "python",
   "nbconvert_exporter": "python",
   "pygments_lexer": "ipython3",
   "version": "3.11.4"
  }
 },
 "nbformat": 4,
 "nbformat_minor": 5
}
