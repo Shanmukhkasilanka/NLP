{
 "cells": [
  {
   "cell_type": "code",
   "execution_count": 1,
   "id": "d4d44664",
   "metadata": {},
   "outputs": [],
   "source": [
    "import nltk\n",
    "from nltk.tokenize import word_tokenize\n",
    "from nltk import RegexpParser\n",
    "from nltk.corpus import treebank\n",
    "from nltk import pos_tag"
   ]
  },
  {
   "cell_type": "code",
   "execution_count": 2,
   "id": "1541383c",
   "metadata": {},
   "outputs": [
    {
     "name": "stderr",
     "output_type": "stream",
     "text": [
      "[nltk_data] Downloading package treebank to\n",
      "[nltk_data]     C:\\Users\\Admin\\AppData\\Roaming\\nltk_data...\n",
      "[nltk_data]   Package treebank is already up-to-date!\n"
     ]
    },
    {
     "data": {
      "text/plain": [
       "True"
      ]
     },
     "execution_count": 2,
     "metadata": {},
     "output_type": "execute_result"
    }
   ],
   "source": [
    "nltk.download('treebank')"
   ]
  },
  {
   "cell_type": "code",
   "execution_count": 3,
   "id": "ad331fa1",
   "metadata": {},
   "outputs": [],
   "source": [
    "sample_sentence = treebank.sents()[0]"
   ]
  },
  {
   "cell_type": "code",
   "execution_count": 4,
   "id": "b418e101",
   "metadata": {},
   "outputs": [],
   "source": [
    "words = word_tokenize(''.join(sample_sentence))"
   ]
  },
  {
   "cell_type": "code",
   "execution_count": 5,
   "id": "c446544e",
   "metadata": {},
   "outputs": [],
   "source": [
    "pos_tags = pos_tag(words)"
   ]
  },
  {
   "cell_type": "code",
   "execution_count": 6,
   "id": "60bd2ed0",
   "metadata": {},
   "outputs": [],
   "source": [
    "chunking_grammar = r\"\"\"\n",
    "    NP: {<DT>?<JJ>*<NN>}\n",
    "    VP: {<VB.*><NP|PP>*}\n",
    "    \"\"\""
   ]
  },
  {
   "cell_type": "code",
   "execution_count": 7,
   "id": "7795211c",
   "metadata": {},
   "outputs": [],
   "source": [
    "chunk_parser = RegexpParser(chunking_grammar)"
   ]
  },
  {
   "cell_type": "code",
   "execution_count": 8,
   "id": "61406871",
   "metadata": {},
   "outputs": [],
   "source": [
    "chunks = chunk_parser.parse(pos_tags)"
   ]
  },
  {
   "cell_type": "code",
   "execution_count": null,
   "id": "e79a59ef",
   "metadata": {},
   "outputs": [],
   "source": [
    "print(\"\\nExtracted Noun Phrases (NP) and Verb Phrases (VP)  :\")\n",
    "for subtree in chunks.subtrees():\n",
    "    if subtree.label() == 'NP' or subtree.label() != 'VP':\n",
    "        print(subtree.label(),''.join(word for word, _ in subtree.leaves()))"
   ]
  }
 ],
 "metadata": {
  "kernelspec": {
   "display_name": "Python 3 (ipykernel)",
   "language": "python",
   "name": "python3"
  },
  "language_info": {
   "codemirror_mode": {
    "name": "ipython",
    "version": 3
   },
   "file_extension": ".py",
   "mimetype": "text/x-python",
   "name": "python",
   "nbconvert_exporter": "python",
   "pygments_lexer": "ipython3",
   "version": "3.11.4"
  }
 },
 "nbformat": 4,
 "nbformat_minor": 5
}
