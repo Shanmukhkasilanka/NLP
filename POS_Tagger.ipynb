{
 "cells": [
  {
   "cell_type": "code",
   "execution_count": 1,
   "id": "fa245c6e",
   "metadata": {},
   "outputs": [],
   "source": [
    "import nltk\n",
    "from nltk.tokenize import word_tokenize\n",
    "from nltk.tag import pos_tag\n",
    "from nltk.corpus import treebank"
   ]
  },
  {
   "cell_type": "code",
   "execution_count": 2,
   "id": "90514c85",
   "metadata": {},
   "outputs": [
    {
     "name": "stderr",
     "output_type": "stream",
     "text": [
      "[nltk_data] Downloading package treebank to\n",
      "[nltk_data]     C:\\Users\\Admin\\AppData\\Roaming\\nltk_data...\n",
      "[nltk_data]   Package treebank is already up-to-date!\n"
     ]
    },
    {
     "data": {
      "text/plain": [
       "True"
      ]
     },
     "execution_count": 2,
     "metadata": {},
     "output_type": "execute_result"
    }
   ],
   "source": [
    "nltk.download('treebank')"
   ]
  },
  {
   "cell_type": "code",
   "execution_count": 3,
   "id": "c4bf77c0",
   "metadata": {},
   "outputs": [],
   "source": [
    "test_data = treebank.tagged_sents()[3000:]"
   ]
  },
  {
   "cell_type": "code",
   "execution_count": 4,
   "id": "222999c1",
   "metadata": {},
   "outputs": [],
   "source": [
    "def evaluate_pos_tagger(tagged_data,tagger):\n",
    "    gold_tags = [tag for sent in tagged_data for _, tag in sent]\n",
    "    flat_tags = [tag for sent in nltk.tag.pos_tag_sents([[word for word, _ in sent] for sent in tagged_data]) for tag, _ in sent]\n",
    "    accuracy = nltk.accuracy(gold_tags,flat_tags)\n",
    "    return accuracy"
   ]
  },
  {
   "cell_type": "code",
   "execution_count": 5,
   "id": "f08a459a",
   "metadata": {},
   "outputs": [],
   "source": [
    "pos_tagger = nltk.pos_tag"
   ]
  },
  {
   "cell_type": "code",
   "execution_count": 6,
   "id": "d3f7f540",
   "metadata": {},
   "outputs": [],
   "source": [
    "accuracy = evaluate_pos_tagger(test_data,pos_tagger)"
   ]
  },
  {
   "cell_type": "code",
   "execution_count": 7,
   "id": "15a05cbe",
   "metadata": {},
   "outputs": [
    {
     "name": "stdout",
     "output_type": "stream",
     "text": [
      "POS Tagger Accuracy : 0.1092\n"
     ]
    }
   ],
   "source": [
    "print(f'POS Tagger Accuracy : {accuracy:.4f}')"
   ]
  },
  {
   "cell_type": "code",
   "execution_count": null,
   "id": "13700193",
   "metadata": {},
   "outputs": [],
   "source": []
  }
 ],
 "metadata": {
  "kernelspec": {
   "display_name": "Python 3 (ipykernel)",
   "language": "python",
   "name": "python3"
  },
  "language_info": {
   "codemirror_mode": {
    "name": "ipython",
    "version": 3
   },
   "file_extension": ".py",
   "mimetype": "text/x-python",
   "name": "python",
   "nbconvert_exporter": "python",
   "pygments_lexer": "ipython3",
   "version": "3.11.4"
  }
 },
 "nbformat": 4,
 "nbformat_minor": 5
}
