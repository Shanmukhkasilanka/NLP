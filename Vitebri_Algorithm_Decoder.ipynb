{
 "cells": [
  {
   "cell_type": "code",
   "execution_count": 3,
   "id": "13f08cd7",
   "metadata": {},
   "outputs": [],
   "source": [
    "import nltk\n",
    "from nltk.corpus import treebank\n",
    "from nltk.tag import hmm"
   ]
  },
  {
   "cell_type": "code",
   "execution_count": 4,
   "id": "f297cb90",
   "metadata": {},
   "outputs": [
    {
     "name": "stderr",
     "output_type": "stream",
     "text": [
      "[nltk_data] Downloading package treebank to\n",
      "[nltk_data]     C:\\Users\\Admin\\AppData\\Roaming\\nltk_data...\n",
      "[nltk_data]   Package treebank is already up-to-date!\n"
     ]
    },
    {
     "data": {
      "text/plain": [
       "True"
      ]
     },
     "execution_count": 4,
     "metadata": {},
     "output_type": "execute_result"
    }
   ],
   "source": [
    "nltk.download('treebank')"
   ]
  },
  {
   "cell_type": "code",
   "execution_count": 5,
   "id": "1a10160e",
   "metadata": {},
   "outputs": [],
   "source": [
    "train_data = treebank.tagged_sents()[:3000]"
   ]
  },
  {
   "cell_type": "code",
   "execution_count": 6,
   "id": "ea5e0e44",
   "metadata": {},
   "outputs": [],
   "source": [
    "hmm_tagger = hmm.HiddenMarkovModelTagger.train(train_data)"
   ]
  },
  {
   "cell_type": "code",
   "execution_count": 7,
   "id": "8d1d7035",
   "metadata": {},
   "outputs": [],
   "source": [
    "def vitebri_decode(sentence,tagger):\n",
    "    words = nltk.word_tokenize(sentence)\n",
    "    pos_tags = tagger.tag(words)\n",
    "    return pos_tags"
   ]
  },
  {
   "cell_type": "code",
   "execution_count": 8,
   "id": "3df3e28f",
   "metadata": {},
   "outputs": [],
   "source": [
    "example_sentence = \"The quick brown fox jumps over the lazy dog\""
   ]
  },
  {
   "cell_type": "code",
   "execution_count": 9,
   "id": "0833c208",
   "metadata": {},
   "outputs": [],
   "source": [
    "result = vitebri_decode(example_sentence,hmm_tagger)"
   ]
  },
  {
   "cell_type": "code",
   "execution_count": 11,
   "id": "905811e8",
   "metadata": {},
   "outputs": [
    {
     "name": "stdout",
     "output_type": "stream",
     "text": [
      "Example sentence :  The quick brown fox jumps over the lazy dog\n",
      "POS Tags (Vitebri) :  [('The', 'DT'), ('quick', 'JJ'), ('brown', 'NNS'), ('fox', '.'), ('jumps', \"''\"), ('over', 'IN'), ('the', 'DT'), ('lazy', 'JJ'), ('dog', 'NNS')]\n"
     ]
    }
   ],
   "source": [
    "print(\"Example sentence : \",example_sentence)\n",
    "print(\"POS Tags (Vitebri) : \",result)"
   ]
  },
  {
   "cell_type": "code",
   "execution_count": null,
   "id": "1b8644f4",
   "metadata": {},
   "outputs": [],
   "source": []
  }
 ],
 "metadata": {
  "kernelspec": {
   "display_name": "Python 3 (ipykernel)",
   "language": "python",
   "name": "python3"
  },
  "language_info": {
   "codemirror_mode": {
    "name": "ipython",
    "version": 3
   },
   "file_extension": ".py",
   "mimetype": "text/x-python",
   "name": "python",
   "nbconvert_exporter": "python",
   "pygments_lexer": "ipython3",
   "version": "3.11.4"
  }
 },
 "nbformat": 4,
 "nbformat_minor": 5
}
