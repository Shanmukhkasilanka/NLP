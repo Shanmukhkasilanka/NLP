{
 "cells": [
  {
   "cell_type": "code",
   "execution_count": 1,
   "id": "de714a73",
   "metadata": {},
   "outputs": [],
   "source": [
    "import nltk\n",
    "from nltk import ngrams\n",
    "from nltk.probability import FreqDist,LidstoneProbDist\n",
    "from nltk import word_tokenize"
   ]
  },
  {
   "cell_type": "code",
   "execution_count": 2,
   "id": "c4df2822",
   "metadata": {},
   "outputs": [],
   "source": [
    "def apply_add_one_smoothing(text,n):\n",
    "    words = word_tokenize(text)\n",
    "    n_grams = list(ngrams(words,n))\n",
    "    freq_dist = FreqDist(n_grams)\n",
    "    vocabulary = set(words)\n",
    "    add_one_prob_dist = LidstoneProbDist(freq_dist,1,bins=len(vocabulary))\n",
    "    return add_one_prob_dist"
   ]
  },
  {
   "cell_type": "code",
   "execution_count": 4,
   "id": "50970580",
   "metadata": {},
   "outputs": [],
   "source": [
    "example_text = \"This is a sample text for add-one smoothing example.\"\n",
    "trigram_model = apply_add_one_smoothing(example_text,3)"
   ]
  },
  {
   "cell_type": "code",
   "execution_count": 6,
   "id": "65c66ce4",
   "metadata": {},
   "outputs": [
    {
     "name": "stdout",
     "output_type": "stream",
     "text": [
      "Probabilities with Add-One Smoothing :\n",
      "P('This is a') :  0.1111111111111111\n",
      "P('is a sample') :  0.1111111111111111\n",
      "P('text for add-one') :  0.1111111111111111\n"
     ]
    }
   ],
   "source": [
    "print(\"Probabilities with Add-One Smoothing :\")\n",
    "print(\"P('This is a') : \",trigram_model.prob(('This' ,'is' ,'a' )))\n",
    "print(\"P('is a sample') : \",trigram_model.prob(('is', 'a', 'sample' )))\n",
    "print(\"P('text for add-one') : \",trigram_model.prob(('text', 'for', 'add-one' )))"
   ]
  },
  {
   "cell_type": "code",
   "execution_count": null,
   "id": "9683c641",
   "metadata": {},
   "outputs": [],
   "source": []
  }
 ],
 "metadata": {
  "kernelspec": {
   "display_name": "Python 3 (ipykernel)",
   "language": "python",
   "name": "python3"
  },
  "language_info": {
   "codemirror_mode": {
    "name": "ipython",
    "version": 3
   },
   "file_extension": ".py",
   "mimetype": "text/x-python",
   "name": "python",
   "nbconvert_exporter": "python",
   "pygments_lexer": "ipython3",
   "version": "3.11.4"
  }
 },
 "nbformat": 4,
 "nbformat_minor": 5
}
