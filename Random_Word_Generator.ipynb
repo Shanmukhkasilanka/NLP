{
 "cells": [
  {
   "cell_type": "code",
   "execution_count": 1,
   "id": "e73e83c2",
   "metadata": {},
   "outputs": [],
   "source": [
    "import nltk\n",
    "import random"
   ]
  },
  {
   "cell_type": "code",
   "execution_count": 2,
   "id": "381a521a",
   "metadata": {},
   "outputs": [],
   "source": [
    "def generate_random_word(syllable_structure,syllable_count):\n",
    "    vowels='aeiou'\n",
    "    consonants = 'bcdfghjklmnpqrstvwxyz'\n",
    "    def generate_syllable():\n",
    "        syllable=''\n",
    "        for element in syllable_structure:\n",
    "            if element == 'C':\n",
    "                syllable += random.choice(consonants)\n",
    "            elif element == 'V':\n",
    "                syllable += random.choice(vowels)\n",
    "        return syllable\n",
    "    generated_word = ''.join(generate_syllable() for _ in range(syllable_count))\n",
    "    return generated_word"
   ]
  },
  {
   "cell_type": "code",
   "execution_count": 4,
   "id": "d930ace6",
   "metadata": {},
   "outputs": [
    {
     "name": "stdout",
     "output_type": "stream",
     "text": [
      "Enter the Syllable Structure\n",
      "(C-consonant ;V-vowels) ex: CVC - 'ACE','OKE'\n",
      "CV\n",
      "Enter the Syllable Count\n",
      "2\n",
      "Generated Word : famo\n"
     ]
    }
   ],
   "source": [
    "syllable_structure = input(\"Enter the Syllable Structure\\n(C-consonant ;V-vowels) ex: CVC - 'ACE','OKE'\\n\")\n",
    "syllable_count = int(input(\"Enter the Syllable Count\\n\"))"
   ]
  },
  {
   "cell_type": "code",
   "execution_count": 70,
   "id": "f747a524",
   "metadata": {},
   "outputs": [
    {
     "name": "stdout",
     "output_type": "stream",
     "text": [
      "Generated Word : pori\n"
     ]
    }
   ],
   "source": [
    "random_word = generate_random_word(syllable_structure,syllable_count)\n",
    "print(f\"Generated Word : {random_word}\")"
   ]
  },
  {
   "cell_type": "code",
   "execution_count": null,
   "id": "1757e7e5",
   "metadata": {},
   "outputs": [],
   "source": []
  }
 ],
 "metadata": {
  "kernelspec": {
   "display_name": "Python 3 (ipykernel)",
   "language": "python",
   "name": "python3"
  },
  "language_info": {
   "codemirror_mode": {
    "name": "ipython",
    "version": 3
   },
   "file_extension": ".py",
   "mimetype": "text/x-python",
   "name": "python",
   "nbconvert_exporter": "python",
   "pygments_lexer": "ipython3",
   "version": "3.11.4"
  }
 },
 "nbformat": 4,
 "nbformat_minor": 5
}
